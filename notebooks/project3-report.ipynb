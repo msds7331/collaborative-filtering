{
 "cells": [
  {
   "cell_type": "code",
   "execution_count": 1,
   "metadata": {
    "collapsed": false
   },
   "outputs": [
    {
     "name": "stderr",
     "output_type": "stream",
     "text": [
      "[INFO] graphlab.cython.cy_server: GraphLab Create v2.1 started. Logging: /tmp/graphlab_server_1523404606.log\n"
     ]
    },
    {
     "name": "stdout",
     "output_type": "stream",
     "text": [
      "This non-commercial license of GraphLab Create for academic use is assigned to atschannen@smu.edu and will expire on April 08, 2019.\n"
     ]
    },
    {
     "data": {
      "text/html": [
       "<pre>Finished parsing file /Users/atschannen/Documents/collaborative-filtering/data/ml-latest-small/ratings.csv</pre>"
      ],
      "text/plain": [
       "Finished parsing file /Users/atschannen/Documents/collaborative-filtering/data/ml-latest-small/ratings.csv"
      ]
     },
     "metadata": {},
     "output_type": "display_data"
    },
    {
     "data": {
      "text/html": [
       "<pre>Parsing completed. Parsed 100 lines in 0.044491 secs.</pre>"
      ],
      "text/plain": [
       "Parsing completed. Parsed 100 lines in 0.044491 secs."
      ]
     },
     "metadata": {},
     "output_type": "display_data"
    },
    {
     "data": {
      "text/html": [
       "<pre>Finished parsing file /Users/atschannen/Documents/collaborative-filtering/data/ml-latest-small/ratings.csv</pre>"
      ],
      "text/plain": [
       "Finished parsing file /Users/atschannen/Documents/collaborative-filtering/data/ml-latest-small/ratings.csv"
      ]
     },
     "metadata": {},
     "output_type": "display_data"
    },
    {
     "data": {
      "text/html": [
       "<pre>Parsing completed. Parsed 100004 lines in 0.037535 secs.</pre>"
      ],
      "text/plain": [
       "Parsing completed. Parsed 100004 lines in 0.037535 secs."
      ]
     },
     "metadata": {},
     "output_type": "display_data"
    },
    {
     "data": {
      "text/html": [
       "<div style=\"max-height:1000px;max-width:1500px;overflow:auto;\"><table frame=\"box\" rules=\"cols\">\n",
       "    <tr>\n",
       "        <th style=\"padding-left: 1em; padding-right: 1em; text-align: center\">userId</th>\n",
       "        <th style=\"padding-left: 1em; padding-right: 1em; text-align: center\">movieId</th>\n",
       "        <th style=\"padding-left: 1em; padding-right: 1em; text-align: center\">rating</th>\n",
       "        <th style=\"padding-left: 1em; padding-right: 1em; text-align: center\">timestamp</th>\n",
       "    </tr>\n",
       "    <tr>\n",
       "        <td style=\"padding-left: 1em; padding-right: 1em; text-align: center; vertical-align: top\">1</td>\n",
       "        <td style=\"padding-left: 1em; padding-right: 1em; text-align: center; vertical-align: top\">31</td>\n",
       "        <td style=\"padding-left: 1em; padding-right: 1em; text-align: center; vertical-align: top\">2</td>\n",
       "        <td style=\"padding-left: 1em; padding-right: 1em; text-align: center; vertical-align: top\">1260759144</td>\n",
       "    </tr>\n",
       "    <tr>\n",
       "        <td style=\"padding-left: 1em; padding-right: 1em; text-align: center; vertical-align: top\">1</td>\n",
       "        <td style=\"padding-left: 1em; padding-right: 1em; text-align: center; vertical-align: top\">1029</td>\n",
       "        <td style=\"padding-left: 1em; padding-right: 1em; text-align: center; vertical-align: top\">3</td>\n",
       "        <td style=\"padding-left: 1em; padding-right: 1em; text-align: center; vertical-align: top\">1260759179</td>\n",
       "    </tr>\n",
       "    <tr>\n",
       "        <td style=\"padding-left: 1em; padding-right: 1em; text-align: center; vertical-align: top\">1</td>\n",
       "        <td style=\"padding-left: 1em; padding-right: 1em; text-align: center; vertical-align: top\">1061</td>\n",
       "        <td style=\"padding-left: 1em; padding-right: 1em; text-align: center; vertical-align: top\">3</td>\n",
       "        <td style=\"padding-left: 1em; padding-right: 1em; text-align: center; vertical-align: top\">1260759182</td>\n",
       "    </tr>\n",
       "    <tr>\n",
       "        <td style=\"padding-left: 1em; padding-right: 1em; text-align: center; vertical-align: top\">1</td>\n",
       "        <td style=\"padding-left: 1em; padding-right: 1em; text-align: center; vertical-align: top\">1129</td>\n",
       "        <td style=\"padding-left: 1em; padding-right: 1em; text-align: center; vertical-align: top\">2</td>\n",
       "        <td style=\"padding-left: 1em; padding-right: 1em; text-align: center; vertical-align: top\">1260759185</td>\n",
       "    </tr>\n",
       "    <tr>\n",
       "        <td style=\"padding-left: 1em; padding-right: 1em; text-align: center; vertical-align: top\">1</td>\n",
       "        <td style=\"padding-left: 1em; padding-right: 1em; text-align: center; vertical-align: top\">1172</td>\n",
       "        <td style=\"padding-left: 1em; padding-right: 1em; text-align: center; vertical-align: top\">4</td>\n",
       "        <td style=\"padding-left: 1em; padding-right: 1em; text-align: center; vertical-align: top\">1260759205</td>\n",
       "    </tr>\n",
       "    <tr>\n",
       "        <td style=\"padding-left: 1em; padding-right: 1em; text-align: center; vertical-align: top\">1</td>\n",
       "        <td style=\"padding-left: 1em; padding-right: 1em; text-align: center; vertical-align: top\">1263</td>\n",
       "        <td style=\"padding-left: 1em; padding-right: 1em; text-align: center; vertical-align: top\">2</td>\n",
       "        <td style=\"padding-left: 1em; padding-right: 1em; text-align: center; vertical-align: top\">1260759151</td>\n",
       "    </tr>\n",
       "    <tr>\n",
       "        <td style=\"padding-left: 1em; padding-right: 1em; text-align: center; vertical-align: top\">1</td>\n",
       "        <td style=\"padding-left: 1em; padding-right: 1em; text-align: center; vertical-align: top\">1287</td>\n",
       "        <td style=\"padding-left: 1em; padding-right: 1em; text-align: center; vertical-align: top\">2</td>\n",
       "        <td style=\"padding-left: 1em; padding-right: 1em; text-align: center; vertical-align: top\">1260759187</td>\n",
       "    </tr>\n",
       "    <tr>\n",
       "        <td style=\"padding-left: 1em; padding-right: 1em; text-align: center; vertical-align: top\">1</td>\n",
       "        <td style=\"padding-left: 1em; padding-right: 1em; text-align: center; vertical-align: top\">1293</td>\n",
       "        <td style=\"padding-left: 1em; padding-right: 1em; text-align: center; vertical-align: top\">2</td>\n",
       "        <td style=\"padding-left: 1em; padding-right: 1em; text-align: center; vertical-align: top\">1260759148</td>\n",
       "    </tr>\n",
       "    <tr>\n",
       "        <td style=\"padding-left: 1em; padding-right: 1em; text-align: center; vertical-align: top\">1</td>\n",
       "        <td style=\"padding-left: 1em; padding-right: 1em; text-align: center; vertical-align: top\">1339</td>\n",
       "        <td style=\"padding-left: 1em; padding-right: 1em; text-align: center; vertical-align: top\">3</td>\n",
       "        <td style=\"padding-left: 1em; padding-right: 1em; text-align: center; vertical-align: top\">1260759125</td>\n",
       "    </tr>\n",
       "    <tr>\n",
       "        <td style=\"padding-left: 1em; padding-right: 1em; text-align: center; vertical-align: top\">1</td>\n",
       "        <td style=\"padding-left: 1em; padding-right: 1em; text-align: center; vertical-align: top\">1343</td>\n",
       "        <td style=\"padding-left: 1em; padding-right: 1em; text-align: center; vertical-align: top\">2</td>\n",
       "        <td style=\"padding-left: 1em; padding-right: 1em; text-align: center; vertical-align: top\">1260759131</td>\n",
       "    </tr>\n",
       "</table>\n",
       "[10 rows x 4 columns]<br/>\n",
       "</div>"
      ],
      "text/plain": [
       "Columns:\n",
       "\tuserId\tint\n",
       "\tmovieId\tint\n",
       "\trating\tint\n",
       "\ttimestamp\tint\n",
       "\n",
       "Rows: 10\n",
       "\n",
       "Data:\n",
       "+--------+---------+--------+------------+\n",
       "| userId | movieId | rating | timestamp  |\n",
       "+--------+---------+--------+------------+\n",
       "|   1    |    31   |   2    | 1260759144 |\n",
       "|   1    |   1029  |   3    | 1260759179 |\n",
       "|   1    |   1061  |   3    | 1260759182 |\n",
       "|   1    |   1129  |   2    | 1260759185 |\n",
       "|   1    |   1172  |   4    | 1260759205 |\n",
       "|   1    |   1263  |   2    | 1260759151 |\n",
       "|   1    |   1287  |   2    | 1260759187 |\n",
       "|   1    |   1293  |   2    | 1260759148 |\n",
       "|   1    |   1339  |   3    | 1260759125 |\n",
       "|   1    |   1343  |   2    | 1260759131 |\n",
       "+--------+---------+--------+------------+\n",
       "[10 rows x 4 columns]"
      ]
     },
     "execution_count": 1,
     "metadata": {},
     "output_type": "execute_result"
    }
   ],
   "source": [
    "import graphlab as gl\n",
    "\n",
    "filepath = '../data/ml-latest-small/ratings.csv'\n",
    "ratings = gl.SFrame.read_csv(filepath, column_type_hints = {\"rating\":int})\n",
    "ratings.head()"
   ]
  },
  {
   "cell_type": "code",
   "execution_count": 2,
   "metadata": {
    "collapsed": false
   },
   "outputs": [
    {
     "data": {
      "text/html": [
       "<pre>Finished parsing file /Users/atschannen/Documents/collaborative-filtering/data/ml-latest-small/movies.csv</pre>"
      ],
      "text/plain": [
       "Finished parsing file /Users/atschannen/Documents/collaborative-filtering/data/ml-latest-small/movies.csv"
      ]
     },
     "metadata": {},
     "output_type": "display_data"
    },
    {
     "data": {
      "text/html": [
       "<pre>Parsing completed. Parsed 100 lines in 0.014621 secs.</pre>"
      ],
      "text/plain": [
       "Parsing completed. Parsed 100 lines in 0.014621 secs."
      ]
     },
     "metadata": {},
     "output_type": "display_data"
    },
    {
     "name": "stdout",
     "output_type": "stream",
     "text": [
      "------------------------------------------------------\n",
      "Inferred types from first 100 line(s) of file as \n",
      "column_type_hints=[int,str,str]\n",
      "If parsing fails due to incorrect types, you can correct\n",
      "the inferred type list above and pass it to read_csv in\n",
      "the column_type_hints argument\n",
      "------------------------------------------------------\n"
     ]
    },
    {
     "data": {
      "text/html": [
       "<pre>Finished parsing file /Users/atschannen/Documents/collaborative-filtering/data/ml-latest-small/movies.csv</pre>"
      ],
      "text/plain": [
       "Finished parsing file /Users/atschannen/Documents/collaborative-filtering/data/ml-latest-small/movies.csv"
      ]
     },
     "metadata": {},
     "output_type": "display_data"
    },
    {
     "data": {
      "text/html": [
       "<pre>Parsing completed. Parsed 9125 lines in 0.017302 secs.</pre>"
      ],
      "text/plain": [
       "Parsing completed. Parsed 9125 lines in 0.017302 secs."
      ]
     },
     "metadata": {},
     "output_type": "display_data"
    },
    {
     "data": {
      "text/html": [
       "<div style=\"max-height:1000px;max-width:1500px;overflow:auto;\"><table frame=\"box\" rules=\"cols\">\n",
       "    <tr>\n",
       "        <th style=\"padding-left: 1em; padding-right: 1em; text-align: center\">movieId</th>\n",
       "        <th style=\"padding-left: 1em; padding-right: 1em; text-align: center\">title</th>\n",
       "        <th style=\"padding-left: 1em; padding-right: 1em; text-align: center\">genres</th>\n",
       "    </tr>\n",
       "    <tr>\n",
       "        <td style=\"padding-left: 1em; padding-right: 1em; text-align: center; vertical-align: top\">1</td>\n",
       "        <td style=\"padding-left: 1em; padding-right: 1em; text-align: center; vertical-align: top\">Toy Story (1995)</td>\n",
       "        <td style=\"padding-left: 1em; padding-right: 1em; text-align: center; vertical-align: top\">Adventure|Animation|Child<br>ren|Comedy|Fantasy ...</td>\n",
       "    </tr>\n",
       "    <tr>\n",
       "        <td style=\"padding-left: 1em; padding-right: 1em; text-align: center; vertical-align: top\">2</td>\n",
       "        <td style=\"padding-left: 1em; padding-right: 1em; text-align: center; vertical-align: top\">Jumanji (1995)</td>\n",
       "        <td style=\"padding-left: 1em; padding-right: 1em; text-align: center; vertical-align: top\">Adventure|Children|Fantas<br>y ...</td>\n",
       "    </tr>\n",
       "    <tr>\n",
       "        <td style=\"padding-left: 1em; padding-right: 1em; text-align: center; vertical-align: top\">3</td>\n",
       "        <td style=\"padding-left: 1em; padding-right: 1em; text-align: center; vertical-align: top\">Grumpier Old Men (1995)</td>\n",
       "        <td style=\"padding-left: 1em; padding-right: 1em; text-align: center; vertical-align: top\">Comedy|Romance</td>\n",
       "    </tr>\n",
       "    <tr>\n",
       "        <td style=\"padding-left: 1em; padding-right: 1em; text-align: center; vertical-align: top\">4</td>\n",
       "        <td style=\"padding-left: 1em; padding-right: 1em; text-align: center; vertical-align: top\">Waiting to Exhale (1995)</td>\n",
       "        <td style=\"padding-left: 1em; padding-right: 1em; text-align: center; vertical-align: top\">Comedy|Drama|Romance</td>\n",
       "    </tr>\n",
       "    <tr>\n",
       "        <td style=\"padding-left: 1em; padding-right: 1em; text-align: center; vertical-align: top\">5</td>\n",
       "        <td style=\"padding-left: 1em; padding-right: 1em; text-align: center; vertical-align: top\">Father of the Bride Part<br>II (1995) ...</td>\n",
       "        <td style=\"padding-left: 1em; padding-right: 1em; text-align: center; vertical-align: top\">Comedy</td>\n",
       "    </tr>\n",
       "    <tr>\n",
       "        <td style=\"padding-left: 1em; padding-right: 1em; text-align: center; vertical-align: top\">6</td>\n",
       "        <td style=\"padding-left: 1em; padding-right: 1em; text-align: center; vertical-align: top\">Heat (1995)</td>\n",
       "        <td style=\"padding-left: 1em; padding-right: 1em; text-align: center; vertical-align: top\">Action|Crime|Thriller</td>\n",
       "    </tr>\n",
       "    <tr>\n",
       "        <td style=\"padding-left: 1em; padding-right: 1em; text-align: center; vertical-align: top\">7</td>\n",
       "        <td style=\"padding-left: 1em; padding-right: 1em; text-align: center; vertical-align: top\">Sabrina (1995)</td>\n",
       "        <td style=\"padding-left: 1em; padding-right: 1em; text-align: center; vertical-align: top\">Comedy|Romance</td>\n",
       "    </tr>\n",
       "    <tr>\n",
       "        <td style=\"padding-left: 1em; padding-right: 1em; text-align: center; vertical-align: top\">8</td>\n",
       "        <td style=\"padding-left: 1em; padding-right: 1em; text-align: center; vertical-align: top\">Tom and Huck (1995)</td>\n",
       "        <td style=\"padding-left: 1em; padding-right: 1em; text-align: center; vertical-align: top\">Adventure|Children</td>\n",
       "    </tr>\n",
       "    <tr>\n",
       "        <td style=\"padding-left: 1em; padding-right: 1em; text-align: center; vertical-align: top\">9</td>\n",
       "        <td style=\"padding-left: 1em; padding-right: 1em; text-align: center; vertical-align: top\">Sudden Death (1995)</td>\n",
       "        <td style=\"padding-left: 1em; padding-right: 1em; text-align: center; vertical-align: top\">Action</td>\n",
       "    </tr>\n",
       "    <tr>\n",
       "        <td style=\"padding-left: 1em; padding-right: 1em; text-align: center; vertical-align: top\">10</td>\n",
       "        <td style=\"padding-left: 1em; padding-right: 1em; text-align: center; vertical-align: top\">GoldenEye (1995)</td>\n",
       "        <td style=\"padding-left: 1em; padding-right: 1em; text-align: center; vertical-align: top\">Action|Adventure|Thriller</td>\n",
       "    </tr>\n",
       "</table>\n",
       "[10 rows x 3 columns]<br/>\n",
       "</div>"
      ],
      "text/plain": [
       "Columns:\n",
       "\tmovieId\tint\n",
       "\ttitle\tstr\n",
       "\tgenres\tstr\n",
       "\n",
       "Rows: 10\n",
       "\n",
       "Data:\n",
       "+---------+-------------------------------+-------------------------------+\n",
       "| movieId |             title             |             genres            |\n",
       "+---------+-------------------------------+-------------------------------+\n",
       "|    1    |        Toy Story (1995)       | Adventure|Animation|Childr... |\n",
       "|    2    |         Jumanji (1995)        |   Adventure|Children|Fantasy  |\n",
       "|    3    |    Grumpier Old Men (1995)    |         Comedy|Romance        |\n",
       "|    4    |    Waiting to Exhale (1995)   |      Comedy|Drama|Romance     |\n",
       "|    5    | Father of the Bride Part I... |             Comedy            |\n",
       "|    6    |          Heat (1995)          |     Action|Crime|Thriller     |\n",
       "|    7    |         Sabrina (1995)        |         Comedy|Romance        |\n",
       "|    8    |      Tom and Huck (1995)      |       Adventure|Children      |\n",
       "|    9    |      Sudden Death (1995)      |             Action            |\n",
       "|    10   |        GoldenEye (1995)       |   Action|Adventure|Thriller   |\n",
       "+---------+-------------------------------+-------------------------------+\n",
       "[10 rows x 3 columns]"
      ]
     },
     "execution_count": 2,
     "metadata": {},
     "output_type": "execute_result"
    }
   ],
   "source": [
    "movies = gl.SFrame.read_csv('../data/ml-latest-small/movies.csv')\n",
    "movies.head()"
   ]
  },
  {
   "cell_type": "code",
   "execution_count": 8,
   "metadata": {
    "collapsed": false
   },
   "outputs": [
    {
     "name": "stdout",
     "output_type": "stream",
     "text": [
      "Canvas is accessible via web browser at the URL: http://localhost:51460/index.html\n",
      "Opening Canvas in default web browser.\n"
     ]
    }
   ],
   "source": [
    "data = ratings.join(movies, on = 'movieId', how = 'left')\n",
    "data.head()\n",
    "data.show()"
   ]
  },
  {
   "cell_type": "markdown",
   "metadata": {},
   "source": [
    "## Describe the meaning and type of Data\n",
    "\n",
    "\"This dataset (ml-20m) describes 5-star rating and free-text tagging activity from MovieLens, a movie recommendation service. It contains 20000263 ratings and 465564 tag applications across 27278 movies. These data were created by 138493 users between January 09, 1995 and March 31, 2015. This dataset was generated on October 17, 2016.\n",
    "\n",
    "Users were selected at random for inclusion and IDS have anonumized. All selected users had rated at least 20 movies. No demographic information is included. Each user is represented by an id, and no other information is provided.\"\n",
    "\n",
    "The Movie IDs all contain \"at least one rating or tag are included in the dataset.\"\n"
   ]
  },
  {
   "cell_type": "code",
   "execution_count": 34,
   "metadata": {
    "collapsed": false
   },
   "outputs": [
    {
     "data": {
      "text/html": [
       "<pre>Finished parsing file /Users/atschannen/Documents/collaborative-filtering/notebooks/movies.csv</pre>"
      ],
      "text/plain": [
       "Finished parsing file /Users/atschannen/Documents/collaborative-filtering/notebooks/movies.csv"
      ]
     },
     "metadata": {},
     "output_type": "display_data"
    },
    {
     "data": {
      "text/html": [
       "<pre>Parsing completed. Parsed 100 lines in 0.040721 secs.</pre>"
      ],
      "text/plain": [
       "Parsing completed. Parsed 100 lines in 0.040721 secs."
      ]
     },
     "metadata": {},
     "output_type": "display_data"
    },
    {
     "name": "stdout",
     "output_type": "stream",
     "text": [
      "------------------------------------------------------\n",
      "Inferred types from first 100 line(s) of file as \n",
      "column_type_hints=[int,str,str]\n",
      "If parsing fails due to incorrect types, you can correct\n",
      "the inferred type list above and pass it to read_csv in\n",
      "the column_type_hints argument\n",
      "------------------------------------------------------\n"
     ]
    },
    {
     "data": {
      "text/html": [
       "<pre>Finished parsing file /Users/atschannen/Documents/collaborative-filtering/notebooks/movies.csv</pre>"
      ],
      "text/plain": [
       "Finished parsing file /Users/atschannen/Documents/collaborative-filtering/notebooks/movies.csv"
      ]
     },
     "metadata": {},
     "output_type": "display_data"
    },
    {
     "data": {
      "text/html": [
       "<pre>Parsing completed. Parsed 27278 lines in 0.026636 secs.</pre>"
      ],
      "text/plain": [
       "Parsing completed. Parsed 27278 lines in 0.026636 secs."
      ]
     },
     "metadata": {},
     "output_type": "display_data"
    }
   ],
   "source": [
    "import pandas as pd\n",
    "movies = gl.SFrame.read_csv('movies.csv')\n",
    "\n",
    "mn = pd.read_csv('movies.csv')\n",
    "mns = mn.genres.unique()\n",
    "\n"
   ]
  },
  {
   "cell_type": "code",
   "execution_count": 35,
   "metadata": {
    "collapsed": false
   },
   "outputs": [
    {
     "name": "stdout",
     "output_type": "stream",
     "text": [
      "['Adventure|Animation|Children|Comedy|Fantasy' 'Adventure|Children|Fantasy'\n",
      " 'Comedy|Romance' ..., 'Action|Adventure|Animation|Fantasy|Horror'\n",
      " 'Animation|Children|Comedy|Fantasy|Sci-Fi'\n",
      " 'Animation|Children|Comedy|Western']\n"
     ]
    }
   ],
   "source": [
    "print mns"
   ]
  },
  {
   "cell_type": "code",
   "execution_count": null,
   "metadata": {
    "collapsed": false
   },
   "outputs": [],
   "source": []
  },
  {
   "cell_type": "code",
   "execution_count": 48,
   "metadata": {
    "collapsed": false
   },
   "outputs": [
    {
     "ename": "AttributeError",
     "evalue": "'Series' object has no attribute 'split'",
     "output_type": "error",
     "traceback": [
      "\u001b[0;31m---------------------------------------------------------------------------\u001b[0m",
      "\u001b[0;31mAttributeError\u001b[0m                            Traceback (most recent call last)",
      "\u001b[0;32m<ipython-input-48-922c904d0005>\u001b[0m in \u001b[0;36m<module>\u001b[0;34m()\u001b[0m\n\u001b[1;32m      1\u001b[0m \u001b[0mtmp\u001b[0m \u001b[0;34m=\u001b[0m \u001b[0;34m[\u001b[0m\u001b[0;34m]\u001b[0m\u001b[0;34m\u001b[0m\u001b[0m\n\u001b[1;32m      2\u001b[0m \u001b[0;32mfor\u001b[0m \u001b[0melement\u001b[0m \u001b[0;32min\u001b[0m \u001b[0mmn\u001b[0m\u001b[0;34m:\u001b[0m\u001b[0;34m\u001b[0m\u001b[0m\n\u001b[0;32m----> 3\u001b[0;31m     \u001b[0mtmp\u001b[0m\u001b[0;34m.\u001b[0m\u001b[0mappend\u001b[0m\u001b[0;34m(\u001b[0m\u001b[0;34m[\u001b[0m\u001b[0me\u001b[0m\u001b[0;34m.\u001b[0m\u001b[0mstrip\u001b[0m\u001b[0;34m(\u001b[0m\u001b[0;34m)\u001b[0m \u001b[0;32mfor\u001b[0m \u001b[0me\u001b[0m \u001b[0;32min\u001b[0m \u001b[0mmn\u001b[0m\u001b[0;34m[\u001b[0m\u001b[0;34m'genres'\u001b[0m\u001b[0;34m]\u001b[0m\u001b[0;34m.\u001b[0m\u001b[0msplit\u001b[0m\u001b[0;34m(\u001b[0m\u001b[0;34m\"| \"\u001b[0m\u001b[0;34m)\u001b[0m\u001b[0;34m]\u001b[0m\u001b[0;34m)\u001b[0m\u001b[0;34m\u001b[0m\u001b[0m\n\u001b[0m\u001b[1;32m      4\u001b[0m \u001b[0mDF_split\u001b[0m \u001b[0;34m=\u001b[0m \u001b[0mpd\u001b[0m\u001b[0;34m.\u001b[0m\u001b[0mDataFrame\u001b[0m\u001b[0;34m(\u001b[0m\u001b[0mtmp\u001b[0m\u001b[0;34m)\u001b[0m\u001b[0;34m\u001b[0m\u001b[0m\n",
      "\u001b[0;32m/Users/atschannen/anaconda/envs/gl-env/lib/python2.7/site-packages/pandas/core/generic.pyc\u001b[0m in \u001b[0;36m__getattr__\u001b[0;34m(self, name)\u001b[0m\n\u001b[1;32m   2667\u001b[0m             \u001b[0;32mif\u001b[0m \u001b[0mname\u001b[0m \u001b[0;32min\u001b[0m \u001b[0mself\u001b[0m\u001b[0;34m.\u001b[0m\u001b[0m_info_axis\u001b[0m\u001b[0;34m:\u001b[0m\u001b[0;34m\u001b[0m\u001b[0m\n\u001b[1;32m   2668\u001b[0m                 \u001b[0;32mreturn\u001b[0m \u001b[0mself\u001b[0m\u001b[0;34m[\u001b[0m\u001b[0mname\u001b[0m\u001b[0;34m]\u001b[0m\u001b[0;34m\u001b[0m\u001b[0m\n\u001b[0;32m-> 2669\u001b[0;31m             \u001b[0;32mreturn\u001b[0m \u001b[0mobject\u001b[0m\u001b[0;34m.\u001b[0m\u001b[0m__getattribute__\u001b[0m\u001b[0;34m(\u001b[0m\u001b[0mself\u001b[0m\u001b[0;34m,\u001b[0m \u001b[0mname\u001b[0m\u001b[0;34m)\u001b[0m\u001b[0;34m\u001b[0m\u001b[0m\n\u001b[0m\u001b[1;32m   2670\u001b[0m \u001b[0;34m\u001b[0m\u001b[0m\n\u001b[1;32m   2671\u001b[0m     \u001b[0;32mdef\u001b[0m \u001b[0m__setattr__\u001b[0m\u001b[0;34m(\u001b[0m\u001b[0mself\u001b[0m\u001b[0;34m,\u001b[0m \u001b[0mname\u001b[0m\u001b[0;34m,\u001b[0m \u001b[0mvalue\u001b[0m\u001b[0;34m)\u001b[0m\u001b[0;34m:\u001b[0m\u001b[0;34m\u001b[0m\u001b[0m\n",
      "\u001b[0;31mAttributeError\u001b[0m: 'Series' object has no attribute 'split'"
     ]
    }
   ],
   "source": [
    "tmp = []\n",
    "for element in mn:\n",
    "    tmp.append([e.strip() for e in mn['genres'].split(\"| \")])\n",
    "DF_split = pd.DataFrame(tmp)"
   ]
  },
  {
   "cell_type": "code",
   "execution_count": 45,
   "metadata": {
    "collapsed": false
   },
   "outputs": [
    {
     "name": "stdout",
     "output_type": "stream",
     "text": [
      "                                                    0\n",
      "0         Adventure|Animation|Children|Comedy|Fantasy\n",
      "1                          Adventure|Children|Fantasy\n",
      "2                                      Comedy|Romance\n",
      "3                                Comedy|Drama|Romance\n",
      "4                                              Comedy\n",
      "5                               Action|Crime|Thriller\n",
      "6                                  Adventure|Children\n",
      "7                                              Action\n",
      "8                           Action|Adventure|Thriller\n",
      "9                                       Comedy|Horror\n",
      "10                       Adventure|Animation|Children\n",
      "11                                              Drama\n",
      "12                           Action|Adventure|Romance\n",
      "13                                        Crime|Drama\n",
      "14                                      Drama|Romance\n",
      "15                 Action|Comedy|Crime|Drama|Thriller\n",
      "16                              Comedy|Crime|Thriller\n",
      "17                Crime|Drama|Horror|Mystery|Thriller\n",
      "18                                       Drama|Sci-Fi\n",
      "19                                     Children|Drama\n",
      "20             Adventure|Drama|Fantasy|Mystery|Sci-Fi\n",
      "21                            Mystery|Sci-Fi|Thriller\n",
      "22                             Adventure|Romance|IMAX\n",
      "23                                   Documentary|IMAX\n",
      "24                                    Children|Comedy\n",
      "25                                          Drama|War\n",
      "26                                 Action|Crime|Drama\n",
      "27                           Action|Adventure|Fantasy\n",
      "28                              Comedy|Drama|Thriller\n",
      "29                                   Mystery|Thriller\n",
      "...                                               ...\n",
      "1312               Adventure|Fantasy|Mystery|Thriller\n",
      "1313        Action|Comedy|Crime|Drama|Musical|Romance\n",
      "1314             Action|Comedy|Crime|Romance|Thriller\n",
      "1315                  Comedy|Fantasy|Romance|Thriller\n",
      "1316      Adventure|Animation|Children|Comedy|Mystery\n",
      "1317          Adventure|Comedy|Crime|Mystery|Thriller\n",
      "1318  Animation|Children|Comedy|Drama|Fantasy|Musical\n",
      "1319     Action|Adventure|Comedy|Crime|Drama|Thriller\n",
      "1320                Animation|Children|Fantasy|Sci-Fi\n",
      "1321                          Drama|Horror|Sci-Fi|War\n",
      "1322                        Animation|Children|Sci-Fi\n",
      "1323                                  Adventure|Crime\n",
      "1324                 Adventure|Comedy|Mystery|Western\n",
      "1325                   Action|Children|Fantasy|Sci-Fi\n",
      "1326                         Action|Documentary|Drama\n",
      "1327             Adventure|Documentary|Drama|Thriller\n",
      "1328                   Action|Mystery|Romance|Western\n",
      "1329          Adventure|Children|Comedy|Drama|Fantasy\n",
      "1330                          Animation|Comedy|Horror\n",
      "1331                   Adventure|Comedy|Crime|Fantasy\n",
      "1332                  Adventure|Crime|Mystery|Romance\n",
      "1333             Adventure|Children|Documentary|Drama\n",
      "1334                 Adventure|Children|Drama|Western\n",
      "1335                           Action|Mystery|Romance\n",
      "1336   Adventure|Crime|Drama|Fantasy|Mystery|Thriller\n",
      "1337                  Adventure|Children|Drama|Sci-Fi\n",
      "1338                       Children|Documentary|Drama\n",
      "1339        Action|Adventure|Animation|Fantasy|Horror\n",
      "1340         Animation|Children|Comedy|Fantasy|Sci-Fi\n",
      "1341                Animation|Children|Comedy|Western\n",
      "\n",
      "[1342 rows x 1 columns]\n"
     ]
    }
   ],
   "source": [
    "print DF_split"
   ]
  },
  {
   "cell_type": "code",
   "execution_count": null,
   "metadata": {
    "collapsed": true
   },
   "outputs": [],
   "source": []
  }
 ],
 "metadata": {
  "kernelspec": {
   "display_name": "Python 2",
   "language": "python",
   "name": "python2"
  },
  "language_info": {
   "codemirror_mode": {
    "name": "ipython",
    "version": 2
   },
   "file_extension": ".py",
   "mimetype": "text/x-python",
   "name": "python",
   "nbconvert_exporter": "python",
   "pygments_lexer": "ipython2",
   "version": "2.7.11"
  }
 },
 "nbformat": 4,
 "nbformat_minor": 1
}
